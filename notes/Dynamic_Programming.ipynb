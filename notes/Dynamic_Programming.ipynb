{
  "nbformat": 4,
  "nbformat_minor": 0,
  "metadata": {
    "colab": {
      "name": "Dynamic_Programming.ipynb",
      "provenance": [],
      "collapsed_sections": [],
      "include_colab_link": true
    },
    "kernelspec": {
      "name": "python3",
      "display_name": "Python 3"
    }
  },
  "cells": [
    {
      "cell_type": "markdown",
      "metadata": {
        "id": "view-in-github",
        "colab_type": "text"
      },
      "source": [
        "<a href=\"https://colab.research.google.com/github/wko1014/RL_Study/blob/main/notes/dpdpDynamic_Programming.ipynb\" target=\"_parent\"><img src=\"https://colab.research.google.com/assets/colab-badge.svg\" alt=\"Open In Colab\"/></a>"
      ]
    },
    {
      "cell_type": "code",
      "metadata": {
        "id": "o9yqEs9wfvUs"
      },
      "source": [
        "# Import API\n",
        "import numpy as np"
      ],
      "execution_count": null,
      "outputs": []
    },
    {
      "cell_type": "code",
      "metadata": {
        "id": "tp6ZtJKnfyi6"
      },
      "source": [
        "# Define a function to get the state coordinate.\n",
        "def state_coord(state, action, grid_size):\n",
        "  # Define action_code\n",
        "  code = [(-1, 0), (1, 0), (0, -1), (0, 1)]\n",
        "  \n",
        "  state[0] += code[action][0]\n",
        "  state[1] += code[action][1]\n",
        "  \n",
        "  # The agent cannot go outside from the grid world.\n",
        "  if state[0] < 0:\n",
        "    state[0] = 0\n",
        "  elif state[0] > grid_size-1:\n",
        "    state[0] = grid_size-1\n",
        "    \n",
        "  if state[1] < 0:\n",
        "    state[1] = 0\n",
        "  elif state[1] > grid_size-1:\n",
        "    state[1] = grid_size-1\n",
        "    \n",
        "  return state[0], state[1]  "
      ],
      "execution_count": null,
      "outputs": []
    },
    {
      "cell_type": "code",
      "metadata": {
        "id": "CnwYQOKrg9gg"
      },
      "source": [
        "# Define policy evaluation function\n",
        "def policy_evaluation(grid_size, action, policy, iter_num, reward=-1, dis=1):\n",
        "  # Initialize policy table\n",
        "  value_table = np.zeros((grid_size, grid_size), dtype=float)\n",
        "  \n",
        "  # Iteration\n",
        "  if iter_num == 0:\n",
        "    print(\"Iteration: {} \\n{}\\n\".format(iter_num, value_table))\n",
        "    return value_table\n",
        "  \n",
        "  for iteration in range(iter_num):\n",
        "    tmp = np.zeros((grid_size, grid_size), dtype=float)\n",
        "    for i in range(grid_size):\n",
        "      for j in range(grid_size):\n",
        "        if i == j and ((i == 0) or (i == grid_size-1)):\n",
        "          value_t = 0\n",
        "        else:\n",
        "          value_t = 0\n",
        "          for act in action:\n",
        "            i_, j_ = state_coord([i, j], act, grid_size)\n",
        "            value = policy[i][j][act] * (reward + dis*value_table[i_][j_])\n",
        "            value_t += value\n",
        "        tmp[i][j] = round(value_t, grid_size-4)\n",
        "    iteration += 1\n",
        "    # Result print\n",
        "    if (iteration % 10) != iter_num:\n",
        "      if iteration > 100:\n",
        "        if (iteration % 20) == 0:\n",
        "          print(\"Iteration: {} \\n{}\\n\".format(iteration, tmp))\n",
        "      else:\n",
        "        if (iteration % 10) == 0:\n",
        "          print(\"Iteration: {} \\n{}\\n\".format(iteration, tmp))\n",
        "    else:\n",
        "      print(\"Iteration: {} \\n{}\\n\".format(iteration, tmp))\n",
        "\n",
        "    value_table = tmp\n",
        "    \n",
        "  return tmp"
      ],
      "execution_count": null,
      "outputs": []
    },
    {
      "cell_type": "code",
      "metadata": {
        "id": "_Vug8mcjg-2l"
      },
      "source": [
        "grid_size = 5\n",
        "action = [0, 1, 2, 3] # Up, Down, Left, Right\n",
        "policy = np.empty([grid_size, grid_size, len(action)], dtype=float)\n",
        "for i in range(grid_size):\n",
        "  for j in range(grid_size):\n",
        "    for k in range(len(action)):\n",
        "      if i==j and ((i==0) or (i==grid_size-1)):\n",
        "        policy[i][j]=0.00\n",
        "      else:\n",
        "        policy[i][j]=0.25\n",
        "        \n",
        "policy[0][0] = [0] * len(action)\n",
        "policy[grid_size-1][grid_size-1] = [0] * len(action)"
      ],
      "execution_count": null,
      "outputs": []
    },
    {
      "cell_type": "code",
      "metadata": {
        "id": "fYKv0-y-krUE",
        "outputId": "a59a9988-5271-478d-871f-89f3f5e66371",
        "colab": {
          "base_uri": "https://localhost:8080/",
          "height": 1000
        }
      },
      "source": [
        "value = policy_evaluation(grid_size=grid_size, action=action, policy=policy, iter_num=100)"
      ],
      "execution_count": null,
      "outputs": [
        {
          "output_type": "stream",
          "text": [
            "Iteration: 10 \n",
            "[[ 0.  -6.3 -8.7 -9.5 -9.8]\n",
            " [-6.3 -8.  -9.1 -9.5 -9.6]\n",
            " [-8.7 -9.1 -9.3 -9.1 -8.7]\n",
            " [-9.5 -9.4 -9.1 -8.  -6.3]\n",
            " [-9.8 -9.5 -8.7 -6.3  0. ]]\n",
            "\n",
            "Iteration: 20 \n",
            "[[  0.  -10.4 -15.1 -17.  -17.6]\n",
            " [-10.4 -13.7 -15.9 -16.8 -17. ]\n",
            " [-15.  -15.9 -16.3 -15.9 -15. ]\n",
            " [-17.  -16.8 -15.9 -13.7 -10.4]\n",
            " [-17.6 -17.  -15.  -10.4   0. ]]\n",
            "\n",
            "Iteration: 30 \n",
            "[[  0.  -13.6 -19.8 -22.6 -23.6]\n",
            " [-13.6 -17.9 -21.  -22.4 -22.6]\n",
            " [-19.8 -21.  -21.5 -21.  -19.8]\n",
            " [-22.6 -22.3 -21.  -17.9 -13.6]\n",
            " [-23.5 -22.6 -19.8 -13.6   0. ]]\n",
            "\n",
            "Iteration: 40 \n",
            "[[  0.  -15.9 -23.4 -26.8 -28. ]\n",
            " [-15.9 -21.  -24.8 -26.4 -26.8]\n",
            " [-23.4 -24.8 -25.4 -24.8 -23.4]\n",
            " [-26.8 -26.4 -24.8 -21.  -15.9]\n",
            " [-28.  -26.8 -23.4 -15.9   0. ]]\n",
            "\n",
            "Iteration: 50 \n",
            "[[  0.  -17.6 -26.1 -30.  -31.4]\n",
            " [-17.6 -23.5 -27.6 -29.6 -30. ]\n",
            " [-26.1 -27.6 -28.4 -27.6 -26.1]\n",
            " [-30.  -29.6 -27.6 -23.4 -17.6]\n",
            " [-31.4 -30.  -26.1 -17.6   0. ]]\n",
            "\n",
            "Iteration: 60 \n",
            "[[  0.  -19.  -28.2 -32.3 -33.8]\n",
            " [-19.  -25.2 -29.8 -31.8 -32.3]\n",
            " [-28.2 -29.8 -30.6 -29.8 -28.2]\n",
            " [-32.3 -31.8 -29.8 -25.2 -19. ]\n",
            " [-33.8 -32.3 -28.2 -19.    0. ]]\n",
            "\n",
            "Iteration: 70 \n",
            "[[  0.  -20.  -29.6 -34.1 -35.8]\n",
            " [-20.  -26.6 -31.4 -33.6 -34.1]\n",
            " [-29.6 -31.4 -32.2 -31.4 -29.6]\n",
            " [-34.1 -33.6 -31.4 -26.6 -20. ]\n",
            " [-35.8 -34.1 -29.6 -20.    0. ]]\n",
            "\n",
            "Iteration: 80 \n",
            "[[  0.  -20.7 -30.8 -35.5 -37.3]\n",
            " [-20.7 -27.6 -32.6 -35.  -35.5]\n",
            " [-30.8 -32.6 -33.5 -32.6 -30.8]\n",
            " [-35.5 -35.  -32.6 -27.6 -20.7]\n",
            " [-37.3 -35.5 -30.8 -20.7   0. ]]\n",
            "\n",
            "Iteration: 90 \n",
            "[[  0.  -21.3 -31.6 -36.5 -38.3]\n",
            " [-21.3 -28.3 -33.5 -35.9 -36.5]\n",
            " [-31.6 -33.5 -34.4 -33.5 -31.6]\n",
            " [-36.5 -35.9 -33.5 -28.3 -21.3]\n",
            " [-38.3 -36.5 -31.6 -21.3   0. ]]\n",
            "\n",
            "Iteration: 100 \n",
            "[[  0.  -21.7 -32.3 -37.3 -39.2]\n",
            " [-21.7 -29.  -34.2 -36.7 -37.3]\n",
            " [-32.3 -34.2 -35.2 -34.2 -32.3]\n",
            " [-37.3 -36.7 -34.2 -28.9 -21.6]\n",
            " [-39.2 -37.3 -32.3 -21.7   0. ]]\n",
            "\n"
          ],
          "name": "stdout"
        }
      ]
    },
    {
      "cell_type": "code",
      "metadata": {
        "id": "IAcl4zO5lEgk"
      },
      "source": [
        "# Define policy improvement function\n",
        "def policy_improvement(grid_size, value, action, policy, reward=-1):\n",
        "  action_id = [\"U\",\"D\", \"L\", \"R\"] # Up, Down, Left, Right\n",
        "  action_table = []\n",
        "  \n",
        "  # Calculate Q-function\n",
        "  for i in range(grid_size):\n",
        "    for j in range(grid_size):\n",
        "      Q_list = []\n",
        "      if i==j and ((i==0) or (i==grid_size-1)):\n",
        "        action_table.append(\"G\") # Goal\n",
        "      else:\n",
        "        for k in range(len(action)):\n",
        "          i_, j_ = state_coord([i, j], k, grid_size)\n",
        "          Q_list.append(value[i_][j_])\n",
        "        max_action = [action_value for action_value, x in enumerate(Q_list) if x == max(Q_list)]\n",
        "        \n",
        "        # Policy update\n",
        "        policy[i][j] = [0] * len(action) # Initialize Q list\n",
        "        for y in max_action:\n",
        "          policy[i][j][y] = (1/len(max_action))\n",
        "          \n",
        "        # Get action\n",
        "        idx = np.argmax(policy[i][j])\n",
        "        action_table.append(action_id[idx])\n",
        "  action_table = np.asarray(action_table).reshape((grid_size, grid_size))\n",
        "  \n",
        "  print(\"Updated policy is :\\n{}\\n\".format(policy))\n",
        "  print(\"At each state, chosen action is: \\n{}\".format(action_table))\n",
        "  \n",
        "  return policy"
      ],
      "execution_count": null,
      "outputs": []
    },
    {
      "cell_type": "code",
      "metadata": {
        "id": "rZQUmIGEoQMf",
        "outputId": "2b016c2f-ec60-4aab-f4a6-8b43fcc165b5",
        "colab": {
          "base_uri": "https://localhost:8080/",
          "height": 646
        }
      },
      "source": [
        "updated_policy = policy_improvement(grid_size=grid_size, value=value, action=action, policy=policy)"
      ],
      "execution_count": null,
      "outputs": [
        {
          "output_type": "stream",
          "text": [
            "Updated policy is :\n",
            "[[[0.   0.   0.   0.  ]\n",
            "  [0.   0.   1.   0.  ]\n",
            "  [0.   0.   1.   0.  ]\n",
            "  [0.   0.   1.   0.  ]\n",
            "  [0.   0.5  0.5  0.  ]]\n",
            "\n",
            " [[1.   0.   0.   0.  ]\n",
            "  [0.5  0.   0.5  0.  ]\n",
            "  [0.   0.   1.   0.  ]\n",
            "  [0.   0.5  0.5  0.  ]\n",
            "  [0.   1.   0.   0.  ]]\n",
            "\n",
            " [[1.   0.   0.   0.  ]\n",
            "  [1.   0.   0.   0.  ]\n",
            "  [0.25 0.25 0.25 0.25]\n",
            "  [0.   1.   0.   0.  ]\n",
            "  [0.   1.   0.   0.  ]]\n",
            "\n",
            " [[1.   0.   0.   0.  ]\n",
            "  [0.5  0.   0.   0.5 ]\n",
            "  [0.   0.   0.   1.  ]\n",
            "  [0.   0.   0.   1.  ]\n",
            "  [0.   1.   0.   0.  ]]\n",
            "\n",
            " [[0.5  0.   0.   0.5 ]\n",
            "  [0.   0.   0.   1.  ]\n",
            "  [0.   0.   0.   1.  ]\n",
            "  [0.   0.   0.   1.  ]\n",
            "  [0.   0.   0.   0.  ]]]\n",
            "\n",
            "At each state, chosen action is: \n",
            "[['G' 'L' 'L' 'L' 'D']\n",
            " ['U' 'U' 'L' 'D' 'D']\n",
            " ['U' 'U' 'U' 'D' 'D']\n",
            " ['U' 'U' 'R' 'R' 'D']\n",
            " ['U' 'R' 'R' 'R' 'G']]\n"
          ],
          "name": "stdout"
        }
      ]
    },
    {
      "cell_type": "code",
      "metadata": {
        "id": "UwvGXV-zs6U-"
      },
      "source": [
        "# Define value iteration algorithm function\n",
        "def value_iteration(grid_size, action, policy, iter_num, reward=-1, dis=1):\n",
        "  # Initialize table\n",
        "  value_table = np.zeros((grid_size, grid_size), dtype=float)\n",
        "  \n",
        "  # Iteration\n",
        "  if iter_num == 0:\n",
        "    print(\"Iteration: {} \\n{}\\n\".format(iter_num, value_table))\n",
        "    return value_table\n",
        "  \n",
        "  for iteration in range(iter_num):\n",
        "    tmp = np.zeros((grid_size, grid_size), dtype=float)\n",
        "    for i in range(grid_size):\n",
        "      for j in range(grid_size):\n",
        "        if i == j and ((i == 0) or (i == grid_size-1)):\n",
        "          value_t = 0\n",
        "        else:\n",
        "          value_t_list = []\n",
        "          for act in action:\n",
        "            i_, j_ = state_coord([i, j], act, grid_size)\n",
        "            value = (reward + dis*value_table[i_][j_])\n",
        "            value_t_list.append(value)\n",
        "          tmp[i][j] = max(value_t_list)\n",
        "    iteration +=1\n",
        "    # Result print\n",
        "    if (iteration % 10) != iter_num:\n",
        "      if iteration > 100:\n",
        "        if (iteration % 20) == 0:\n",
        "          print(\"Iteration: {} \\n{}\\n\".format(iteration, tmp))\n",
        "      else:\n",
        "        if (iteration % 10) == 0:\n",
        "          print(\"Iteration: {} \\n{}\\n\".format(iteration, tmp))\n",
        "    else:\n",
        "      print(\"Iteration: {} \\n{}\\n\".format(iteration, tmp))\n",
        "\n",
        "    value_table = tmp\n",
        "    \n",
        "  return tmp"
      ],
      "execution_count": null,
      "outputs": []
    },
    {
      "cell_type": "code",
      "metadata": {
        "id": "1ufFlfa6zNlD"
      },
      "source": [
        "grid_size = 5\n",
        "action = [0, 1, 2, 3] # Up, Down, Left, Right\n",
        "policy = np.empty([grid_size, grid_size, len(action)], dtype=float)\n",
        "for i in range(grid_size):\n",
        "  for j in range(grid_size):\n",
        "    for k in range(len(action)):\n",
        "      if i==j and ((i==0) or (i==grid_size-1)):\n",
        "        policy[i][j]=0.00\n",
        "      else:\n",
        "        policy[i][j]=0.25\n",
        "        \n",
        "policy[0][0] = [0] * len(action)\n",
        "policy[grid_size-1][grid_size-1] = [0] * len(action)"
      ],
      "execution_count": null,
      "outputs": []
    },
    {
      "cell_type": "code",
      "metadata": {
        "id": "p6yU-pk2zT_b",
        "colab": {
          "base_uri": "https://localhost:8080/",
          "height": 493
        },
        "outputId": "c9665755-0f6c-488a-b5ef-5fc92b7554ca"
      },
      "source": [
        "value = value_iteration(grid_size=grid_size, action=action, policy=policy, iter_num=1)\n",
        "value = value_iteration(grid_size=grid_size, action=action, policy=policy, iter_num=2)\n",
        "value = value_iteration(grid_size=grid_size, action=action, policy=policy, iter_num=3)\n",
        "value = value_iteration(grid_size=grid_size, action=action, policy=policy, iter_num=10)"
      ],
      "execution_count": null,
      "outputs": [
        {
          "output_type": "stream",
          "text": [
            "Iteration: 1 \n",
            "[[ 0. -1. -1. -1. -1.]\n",
            " [-1. -1. -1. -1. -1.]\n",
            " [-1. -1. -1. -1. -1.]\n",
            " [-1. -1. -1. -1. -1.]\n",
            " [-1. -1. -1. -1.  0.]]\n",
            "\n",
            "Iteration: 2 \n",
            "[[ 0. -1. -2. -2. -2.]\n",
            " [-1. -2. -2. -2. -2.]\n",
            " [-2. -2. -2. -2. -2.]\n",
            " [-2. -2. -2. -2. -1.]\n",
            " [-2. -2. -2. -1.  0.]]\n",
            "\n",
            "Iteration: 3 \n",
            "[[ 0. -1. -2. -3. -3.]\n",
            " [-1. -2. -3. -3. -3.]\n",
            " [-2. -3. -3. -3. -2.]\n",
            " [-3. -3. -3. -2. -1.]\n",
            " [-3. -3. -2. -1.  0.]]\n",
            "\n",
            "Iteration: 10 \n",
            "[[ 0. -1. -2. -3. -4.]\n",
            " [-1. -2. -3. -4. -3.]\n",
            " [-2. -3. -4. -3. -2.]\n",
            " [-3. -4. -3. -2. -1.]\n",
            " [-4. -3. -2. -1.  0.]]\n",
            "\n"
          ],
          "name": "stdout"
        }
      ]
    },
    {
      "cell_type": "code",
      "metadata": {
        "id": "ET7PhdZBzjUB"
      },
      "source": [
        ""
      ],
      "execution_count": null,
      "outputs": []
    }
  ]
}
