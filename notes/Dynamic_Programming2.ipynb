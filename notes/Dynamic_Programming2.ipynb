{
  "nbformat": 4,
  "nbformat_minor": 0,
  "metadata": {
    "colab": {
      "name": "Dynamic_Programming2.ipynb",
      "provenance": [],
      "collapsed_sections": [],
      "include_colab_link": true
    },
    "kernelspec": {
      "name": "python3",
      "display_name": "Python 3"
    }
  },
  "cells": [
    {
      "cell_type": "markdown",
      "metadata": {
        "id": "view-in-github",
        "colab_type": "text"
      },
      "source": [
        "<a href=\"https://colab.research.google.com/github/wko1014/RL_Study/blob/main/notes/Dynamic_Programming2.ipynb\" target=\"_parent\"><img src=\"https://colab.research.google.com/assets/colab-badge.svg\" alt=\"Open In Colab\"/></a>"
      ]
    },
    {
      "cell_type": "code",
      "metadata": {
        "id": "c-mYGw_94pQ8"
      },
      "source": [
        "# Import APIs\n",
        "import gym\n",
        "import numpy as np\n",
        "import random\n",
        "\n",
        "# APIs for annimation\n",
        "from IPython.display import clear_output\n",
        "from time import sleep"
      ],
      "execution_count": null,
      "outputs": []
    },
    {
      "cell_type": "code",
      "metadata": {
        "id": "6flNL6zv48yw",
        "outputId": "8cffd371-3b4f-497e-f2db-23843dc7d61f",
        "colab": {
          "base_uri": "https://localhost:8080/",
          "height": 510
        }
      },
      "source": [
        "# Call Taxi environment\n",
        "env = gym.make('Taxi-v2').env\n",
        "env.reset()\n",
        "env.render()\n",
        "\n",
        "print(\"Possible actions: {}\".format(env.action_space))\n",
        "print(\"Possible states: {}\\n\".format(env.observation_space))\n",
        "\n",
        "print(\"Rendering:\\n -blue:passenger\\n -magenta: destination\\n -yellow:\"\n",
        "      \"empty taxi\\n -green: full taxi\\n -other letters (R, G, B, and Y):\"\n",
        "      \"locations for passengers and destinations\\n\")\n",
        "print(\"There are 6 discrete deterministic actions:\\n\"\n",
        "     \" -0: move south\\n -1: move north\\n -2: move east\\n -3: move west\\n\"\n",
        "     \" -4: pickup passenger\\n -5: dropoff passenger\\n\")\n",
        "print(\"Rewards:\\n There is a reward of -1 for each action\"\n",
        "      \" and an additional reward of + 20 for deliver.\\n\"\n",
        "     \" There is a reward of -10 for executing actions pickup and dropoff illegally.\")"
      ],
      "execution_count": null,
      "outputs": [
        {
          "output_type": "stream",
          "text": [
            "+---------+\n",
            "|R: | : :\u001b[35mG\u001b[0m|\n",
            "| : : : : |\n",
            "| :\u001b[43m \u001b[0m: : : |\n",
            "| | : | : |\n",
            "|\u001b[34;1mY\u001b[0m| : |B: |\n",
            "+---------+\n",
            "\n",
            "Possible actions: Discrete(6)\n",
            "Possible states: Discrete(500)\n",
            "\n",
            "Rendering:\n",
            " -blue:passenger\n",
            " -magenta: destination\n",
            " -yellow:empty taxi\n",
            " -green: full taxi\n",
            " -other letters (R, G, B, and Y):locations for passengers and destinations\n",
            "\n",
            "There are 6 discrete deterministic actions:\n",
            " -0: move south\n",
            " -1: move north\n",
            " -2: move east\n",
            " -3: move west\n",
            " -4: pickup passenger\n",
            " -5: dropoff passenger\n",
            "\n",
            "Rewards:\n",
            " There is a reward of -1 for each action and an additional reward of + 20 for deliver.\n",
            " There is a reward of -10 for executing actions pickup and dropoff illegally.\n"
          ],
          "name": "stdout"
        }
      ]
    },
    {
      "cell_type": "code",
      "metadata": {
        "id": "oLyE4IG95Ko5",
        "outputId": "6f08f700-a2b4-4dda-829d-f14ff8bd5aea",
        "colab": {
          "base_uri": "https://localhost:8080/",
          "height": 272
        }
      },
      "source": [
        "# The state space is represented by: \n",
        "# (taxi_row, taxi_col, passenger_location, destination)\n",
        "state = env.encode(3, 1, 2, 0)\n",
        "print(\"State code:\", state)\n",
        "\n",
        "env.s = state\n",
        "env.render()\n",
        "\n",
        "# Current Initial reward table.\n",
        "# For each action 0-5, each column show transition probability, next state,\n",
        "# immediate reward, and terminate.\n",
        "env.P[328]"
      ],
      "execution_count": null,
      "outputs": [
        {
          "output_type": "stream",
          "text": [
            "State code: 328\n",
            "+---------+\n",
            "|\u001b[35mR\u001b[0m: | : :G|\n",
            "| : : : : |\n",
            "| : : : : |\n",
            "| |\u001b[43m \u001b[0m: | : |\n",
            "|\u001b[34;1mY\u001b[0m| : |B: |\n",
            "+---------+\n",
            "\n"
          ],
          "name": "stdout"
        },
        {
          "output_type": "execute_result",
          "data": {
            "text/plain": [
              "{0: [(1.0, 428, -1, False)],\n",
              " 1: [(1.0, 228, -1, False)],\n",
              " 2: [(1.0, 348, -1, False)],\n",
              " 3: [(1.0, 328, -1, False)],\n",
              " 4: [(1.0, 328, -10, False)],\n",
              " 5: [(1.0, 328, -10, False)]}"
            ]
          },
          "metadata": {
            "tags": []
          },
          "execution_count": 3
        }
      ]
    },
    {
      "cell_type": "code",
      "metadata": {
        "id": "DOdl-ZDt8b3B",
        "outputId": "d7d752ff-3d63-4c8a-ddc5-2734e6e1b757",
        "colab": {
          "base_uri": "https://localhost:8080/",
          "height": 51
        }
      },
      "source": [
        "# Without any policy enhancement (random policy), we now show the agent.\n",
        "\n",
        "# Initialize\n",
        "epochs, penalties, reward = 0, 0, 0\n",
        "# For animation\n",
        "animation = []\n",
        "done = False\n",
        "\n",
        "while not done:\n",
        "  action = env.action_space.sample() # select an action randomly\n",
        "  state, reward, done, info = env.step(action)\n",
        "  \n",
        "  # For each illegal delivery or meaningless 10 actions, our agent get a penalty.\n",
        "  if reward == -10:\n",
        "    penalties += 1\n",
        "    \n",
        "  animation.append({\"frame\": env.render(mode=\"ansi\"), \"state\":state,\n",
        "                    \"action\":action, \"reward\":reward})\n",
        "  epochs += 1\n",
        "\n",
        "print(\"The agent used {} timesteps for delivery.\".format(epochs))\n",
        "print(\"The agent got {} penalties.\".format(penalties))"
      ],
      "execution_count": null,
      "outputs": [
        {
          "output_type": "stream",
          "text": [
            "The agent used 256 timesteps for delivery.\n",
            "The agent got 58 penalties.\n"
          ],
          "name": "stdout"
        }
      ]
    },
    {
      "cell_type": "code",
      "metadata": {
        "id": "gXzl6O8l_cCJ",
        "outputId": "05e465d6-69f1-4ebf-dd31-0381b1eda3d6",
        "colab": {
          "base_uri": "https://localhost:8080/",
          "height": 272
        }
      },
      "source": [
        "%%time\n",
        "# To animate, we define a function.\n",
        "def animating(frames, time_per_frame):\n",
        "  for i, frame in enumerate(frames):\n",
        "    clear_output(wait=True)\n",
        "    print(frame[\"frame\"].getvalue())\n",
        "    print(f\"Timesteps: {i}\")\n",
        "    print(f\"State: {frame['state']}\")\n",
        "    print(f\"Action: {frame['action']}\")\n",
        "    print(f\"Reward: {frame['reward']}\")\n",
        "    sleep(time_per_frame)\n",
        "    \n",
        "animating(animation, 0.05)"
      ],
      "execution_count": null,
      "outputs": [
        {
          "output_type": "stream",
          "text": [
            "+---------+\n",
            "|\u001b[35m\u001b[34;1m\u001b[43mR\u001b[0m\u001b[0m\u001b[0m: | : :G|\n",
            "| : : : : |\n",
            "| : : : : |\n",
            "| | : | : |\n",
            "|Y| : |B: |\n",
            "+---------+\n",
            "  (Dropoff)\n",
            "\n",
            "Timesteps: 255\n",
            "State: 0\n",
            "Action: 5\n",
            "Reward: 20\n",
            "CPU times: user 693 ms, sys: 187 ms, total: 880 ms\n",
            "Wall time: 13.3 s\n"
          ],
          "name": "stdout"
        }
      ]
    },
    {
      "cell_type": "code",
      "metadata": {
        "id": "I9OQg3sbAG1u",
        "outputId": "5524981a-3f69-4ab7-c250-79d2487d6ee7",
        "colab": {
          "base_uri": "https://localhost:8080/",
          "height": 51
        }
      },
      "source": [
        "%%time\n",
        "# Let us re-implement value iteration algorithm for this environment.\n",
        "# Define hyperparameters\n",
        "num_actions = env.action_space.n\n",
        "num_states = env.observation_space.n\n",
        "num_iterations = 1000\n",
        "delta = 10**-4 # a small threshold\n",
        "gamma = 0.9 # a discounted factor\n",
        "\n",
        "# Define reward, transition, value, action-value matrices.\n",
        "R = np.zeros([num_states, num_actions, num_states])\n",
        "T = np.zeros([num_states, num_actions, num_states])\n",
        "V = np.zeros([num_states])\n",
        "Q = np.zeros([num_states, num_actions])\n",
        "\n",
        "for state in range(num_states):\n",
        "  for action in range(num_actions):\n",
        "    for trans in env.P[state][action]:\n",
        "      prob, s_prime, reward, done = trans\n",
        "      R[state, action, s_prime] = reward\n",
        "      T[state, action, s_prime] = prob\n",
        "    T[state, action, :] /= np.sum(T[state, action, :])\n",
        "    \n",
        "for iteration in range(num_iterations):\n",
        "  V_previous = V.copy()\n",
        "  tmp = np.einsum(\"ijk,ijk->ij\", T, R + gamma*V)\n",
        "  V = np.max(tmp, axis=1)\n",
        "  if np.max(np.abs(V-V_previous)) < delta:\n",
        "    iters = iteration\n",
        "    break\n",
        "  policy = np.argmax(tmp, axis=1)"
      ],
      "execution_count": null,
      "outputs": [
        {
          "output_type": "stream",
          "text": [
            "CPU times: user 879 ms, sys: 38.6 ms, total: 918 ms\n",
            "Wall time: 919 ms\n"
          ],
          "name": "stdout"
        }
      ]
    },
    {
      "cell_type": "code",
      "metadata": {
        "id": "oys8qRwkAuY8",
        "outputId": "ddb89011-59d2-464e-ffd7-6cb0a89fcbd7",
        "colab": {
          "base_uri": "https://localhost:8080/",
          "height": 51
        }
      },
      "source": [
        "# Now, the agent is learnt with value iteration algorithm.\n",
        "\n",
        "# Initialize\n",
        "state = env.encode(3, 1, 2, 0)\n",
        "env.s = state\n",
        "\n",
        "epochs, penalties, reward = 0, 0, 0\n",
        "# For animation\n",
        "animation_val_iter = []\n",
        "done = False\n",
        "\n",
        "while not done:\n",
        "  action = policy[state]\n",
        "  state, reward, done, info = env.step(action)\n",
        "  # For each illegal delivery or meaningless 10 actions, our agent get a penalty.\n",
        "  if reward == -10:\n",
        "    penalties += 1\n",
        "    \n",
        "  animation_val_iter.append({\"frame\": env.render(mode=\"ansi\"), \"state\":state,\n",
        "                    \"action\":action, \"reward\":reward})\n",
        "  epochs += 1\n",
        "\n",
        "print(\"The agent used {} timesteps for delivery.\".format(epochs))\n",
        "print(\"The agent got {} penalties.\".format(penalties))"
      ],
      "execution_count": null,
      "outputs": [
        {
          "output_type": "stream",
          "text": [
            "The agent used 10 timesteps for delivery.\n",
            "The agent got 0 penalties.\n"
          ],
          "name": "stdout"
        }
      ]
    },
    {
      "cell_type": "code",
      "metadata": {
        "id": "Qt97Iu9gCjzm",
        "outputId": "21d161fa-04bd-444f-ef19-cd6a2a693550",
        "colab": {
          "base_uri": "https://localhost:8080/",
          "height": 238
        }
      },
      "source": [
        "animating(animation_val_iter, .5)"
      ],
      "execution_count": null,
      "outputs": [
        {
          "output_type": "stream",
          "text": [
            "+---------+\n",
            "|\u001b[35m\u001b[34;1m\u001b[43mR\u001b[0m\u001b[0m\u001b[0m: | : :G|\n",
            "| : : : : |\n",
            "| : : : : |\n",
            "| | : | : |\n",
            "|Y| : |B: |\n",
            "+---------+\n",
            "  (Dropoff)\n",
            "\n",
            "Timesteps: 9\n",
            "State: 0\n",
            "Action: 5\n",
            "Reward: 20\n"
          ],
          "name": "stdout"
        }
      ]
    },
    {
      "cell_type": "code",
      "metadata": {
        "id": "U73-5BTHuxZJ"
      },
      "source": [
        ""
      ],
      "execution_count": null,
      "outputs": []
    }
  ]
}