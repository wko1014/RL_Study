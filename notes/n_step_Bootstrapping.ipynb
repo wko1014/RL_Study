{
  "nbformat": 4,
  "nbformat_minor": 0,
  "metadata": {
    "colab": {
      "name": "n-step_Bootstrapping.ipynb",
      "provenance": [],
      "collapsed_sections": [],
      "include_colab_link": true
    },
    "kernelspec": {
      "name": "python3",
      "display_name": "Python 3"
    }
  },
  "cells": [
    {
      "cell_type": "markdown",
      "metadata": {
        "id": "view-in-github",
        "colab_type": "text"
      },
      "source": [
        "<a href=\"https://colab.research.google.com/github/wko1014/RL_Study/blob/main/notes/n_step_Bootstrapping.ipynb\" target=\"_parent\"><img src=\"https://colab.research.google.com/assets/colab-badge.svg\" alt=\"Open In Colab\"/></a>"
      ]
    },
    {
      "cell_type": "code",
      "metadata": {
        "id": "nqgej1hOQAOj"
      },
      "source": [
        "# Import APIs\n",
        "import gym\n",
        "import numpy as np\n",
        "import random\n",
        "\n",
        "# APIs for annimation\n",
        "from IPython.display import clear_output\n",
        "from time import sleep"
      ],
      "execution_count": null,
      "outputs": []
    },
    {
      "cell_type": "code",
      "metadata": {
        "id": "bT6Jt5beQdC1",
        "outputId": "28c5a6b6-d517-4b0c-9614-5eb4eff9bd11",
        "colab": {
          "base_uri": "https://localhost:8080/",
          "height": 153
        }
      },
      "source": [
        "# Call Taxi environment\n",
        "env = gym.make('Taxi-v2').env\n",
        "env.reset()\n",
        "env.render()"
      ],
      "execution_count": null,
      "outputs": [
        {
          "output_type": "stream",
          "text": [
            "+---------+\n",
            "|\u001b[34;1mR\u001b[0m: | : :G|\n",
            "| : : :\u001b[43m \u001b[0m: |\n",
            "| : : : : |\n",
            "| | : | : |\n",
            "|Y| : |\u001b[35mB\u001b[0m: |\n",
            "+---------+\n",
            "\n"
          ],
          "name": "stdout"
        }
      ]
    },
    {
      "cell_type": "code",
      "metadata": {
        "id": "iScE4NhM8xA5"
      },
      "source": [
        "%%time\n",
        "# Let us implement n-step Sarsa algorithm.\n",
        "num_states = env.observation_space.n\n",
        "num_actions = env.action_space.n\n",
        "num_iterations = 10000\n",
        "alpha, epsilon, gamma = .4, .1, .9\n",
        "\n",
        "# Initialize\n",
        "Q = np.zeros([num_states, num_actions])\n",
        "pi = np.zeros([num_states])\n",
        "# Initialize policy with epsilon-greedy XX\n",
        "for i in range(pi.shape[0]):\n",
        "  if np.random.rand() < epsilon:\n",
        "    pi[i] = env.action_space.sample() # take a random action\n",
        "  else:\n",
        "    pi[i] = np.argmax(Q[i, :])\n",
        "n = 4 # 4-step Sarsa\n",
        "  \n",
        "# Loop for each episode\n",
        "for iter in range(num_iterations):\n",
        "  S_t, A_t, R_t = [], [], []\n",
        "  S = env.reset() # Initialize S\n",
        "  S_t.append(S) # Store S\n",
        "  A = pi[S]\n",
        "  A_t.append(int(A)) # Store A\n",
        "  T = 1e+10 # infinity\n",
        "  for t in range(0, int(1e+10)):\n",
        "    if t < T:\n",
        "      S, R, done, _ = env.step(int(A)) # Take action\n",
        "      R_t.append(R)\n",
        "      S_t.append(S)\n",
        "      if done == True:\n",
        "        T = t + 1\n",
        "      else:\n",
        "        A = pi[S]\n",
        "        A_t.append(int(A))\n",
        "    tau = t - n + 1\n",
        "    if not tau < 0:\n",
        "      G = 0\n",
        "      for i in range(tau+1, min(tau+n, T)):\n",
        "        G += np.power(gamma, i-tau-1) * R_t[i]\n",
        "      if (tau+n) < T:\n",
        "        G += np.power(gamma, n) * Q[S_t[tau+n], A_t[tau+n]]\n",
        "      Q[S_t[tau], A_t[tau]] += alpha * (G - Q[S_t[tau], A_t[tau]])\n",
        "      # Learning policy with epsilon-greedy XX\n",
        "      if np.random.rand() < epsilon:\n",
        "        pi[S_t[tau]] = env.action_space.sample()\n",
        "      else:\n",
        "        pi[S_t[tau]] = np.argmax(Q[S_t[tau], :])  \n",
        "    if tau == T - 1:\n",
        "      break"
      ],
      "execution_count": null,
      "outputs": []
    },
    {
      "cell_type": "code",
      "metadata": {
        "id": "h9YL87MmwsOz"
      },
      "source": [
        ""
      ],
      "execution_count": null,
      "outputs": []
    }
  ]
}